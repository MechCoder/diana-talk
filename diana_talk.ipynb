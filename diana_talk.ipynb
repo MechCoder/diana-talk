{
 "cells": [
  {
   "cell_type": "code",
   "execution_count": 3,
   "metadata": {
    "collapsed": true,
    "slideshow": {
     "slide_type": "skip"
    }
   },
   "outputs": [],
   "source": [
    "%matplotlib inline"
   ]
  },
  {
   "cell_type": "raw",
   "metadata": {
    "slideshow": {
     "slide_type": "skip"
    }
   },
   "source": [
    "<style type=\"text/css\">\n",
    ".reveal h1, .reveal h2 {\n",
    "    font-family:\"League Gothic\"\n",
    "}\n",
    "</style>"
   ]
  },
  {
   "cell_type": "markdown",
   "metadata": {
    "slideshow": {
     "slide_type": "slide"
    }
   },
   "source": [
    "<center> <b>Bayesian optimisation using scikit-optimize</b> </center>\n",
    "\n",
    "\n",
    "<center>\n",
    "\n",
    "\n",
    "<p> <b>Manoj Kumar</b>\n",
    "\n",
    "<p>Feb 6, CERN\n",
    "\n",
    "\n",
    "</center>"
   ]
  },
  {
   "cell_type": "markdown",
   "metadata": {
    "slideshow": {
     "slide_type": "slide"
    }
   },
   "source": [
    "<center> <b>About me </b></center>\n",
    "\n",
    "\n",
    "- Masters Student at New York University\n",
    "- Core developer of sklearn\n",
    "- Contributed to Spark and SymPy\n",
    "\n",
    "\n",
    "#### Contact\n",
    "\n",
    "- [GitHub](http://github.com/MechCoder)\n",
    "- [@MechCoderr](http://twitter.com/MechCoderr)\n"
   ]
  },
  {
   "cell_type": "markdown",
   "metadata": {
    "slideshow": {
     "slide_type": "slide"
    }
   },
   "source": [
    "<center><font size=\"12\"> Slides: https://mechcoder.github.io/diana-talk/</font> </center>\n",
    "<p>\n",
    "<p>\n",
    "<center><font size=\"12\"> All presentation materials: https://github.com/MechCoder/diana-talk</font></center>"
   ]
  },
  {
   "cell_type": "markdown",
   "metadata": {
    "slideshow": {
     "slide_type": "slide"
    }
   },
   "source": [
    "\n",
    "### Bayesian Optimisation - Ingredients\n",
    "\n",
    "- A black-box function.\n",
    "\n",
    "- A predictive model that provides $P(Y | X)$\n",
    "\n",
    "- An acquisition function.\n",
    "\n",
    "- Package(s) that takes care of all of these under the hood!\n",
    "\n"
   ]
  },
  {
   "cell_type": "markdown",
   "metadata": {
    "slideshow": {
     "slide_type": "slide"
    }
   },
   "source": [
    "### Black-box function\n",
    "\n",
    "- Expensive to evaluate.\n",
    "\n",
    "- Noisy to evaluate.\n",
    "\n",
    "- Gradients unavailable.\n",
    "\n",
    "If it does not satisfy any of these conditions, you should be looking at [scipy.optimize](https://docs.scipy.org/doc/scipy-0.18.1/reference/optimize.html) (gradient-based optimization) and not [scikit-optimize](https://scikit-optimize.github.io/) (bayesian-optimisation)!"
   ]
  },
  {
   "cell_type": "markdown",
   "metadata": {
    "slideshow": {
     "slide_type": "slide"
    }
   },
   "source": [
    "### Typical examples.\n",
    "\n",
    "- Mean cross-validation score of a deep neural-network on test data\n",
    "- Simulation of a collider to get results.\n",
    "- Click-through-rate (CTR) for optimizing ad wording or placement."
   ]
  },
  {
   "cell_type": "markdown",
   "metadata": {
    "slideshow": {
     "slide_type": "slide"
    }
   },
   "source": [
    "- Assume the black-box function $f$ is called `N` times with $X_i$\n",
    "\n",
    "- Every call provides noisy estimates $y_i$ such that $y_i = f(X_i) + \\epsilon_{i}$ where $\\epsilon_{i} \\sim \\mathcal{N}(0, \\sigma^{2})$\n",
    "\n",
    "- Data $D$ is given by $(X_1, y_1), (X_2, y_2), ... (X_n, y_n)$\n"
   ]
  },
  {
   "cell_type": "markdown",
   "metadata": {
    "slideshow": {
     "slide_type": "slide"
    }
   },
   "source": [
    "### Predictive model\n",
    "\n",
    "- Should provide a predictive distribution $P(Y | X)$ at every point.\n",
    "- Examples: Gaussian Processes, Random Forests\n",
    "\n",
    "Will focus on Gaussian Processes on the rest of this talk, though Random Forests are highly useful when there a high number of categorical variables."
   ]
  },
  {
   "cell_type": "markdown",
   "metadata": {
    "slideshow": {
     "slide_type": "slide"
    }
   },
   "source": [
    "\n",
    "### Gaussian Processes - Training\n",
    "\n",
    "\n",
    "- Assume the points $(X_1, y_1), (X_2, y_2), ... (X_N, y_N)$ are obtained from the black box.\n",
    "\n",
    "- Recenter the points $y_i$ such that the mean is zero.\n",
    "\n",
    "- Now the assumption is that $y$ forms a multivariate normal distribution. \n",
    "\n",
    "- Mean of size $N$ given by the origin.\n",
    "\n",
    "- The covariance matrix $K^m$ is computed by a kernel $K$.\n",
    "\n",
    "- Each element $K^m_{ij}$ is given by $K(X_i, X_j)$"
   ]
  },
  {
   "cell_type": "markdown",
   "metadata": {
    "slideshow": {
     "slide_type": "slide"
    }
   },
   "source": [
    "### Gaussian Processes - What to train?\n",
    "\n",
    "- Different kernels hold different assumptions about the smoothness of the functions.\n",
    "\n",
    "- Available kernels in skopt can be seen [here](https://github.com/scikit-optimize/scikit-optimize/blob/master/skopt/learning/gaussian_process/kernels.py)\n",
    "\n",
    "- Also, different covariance matrices have different (hyper)parameters.\n",
    "\n",
    "- For example, the squared exponential kernel has a different length scale for each dimension.\n",
    "\n",
    "- In the sklearn implementation, \"best\" parameters are obtained by maximizing the log-likelihood on training data"
   ]
  },
  {
   "cell_type": "markdown",
   "metadata": {
    "slideshow": {
     "slide_type": "slide"
    }
   },
   "source": [
    "### Gaussian Processes - Prediction\n",
    "\n",
    "- For new points, the posterior is also multivariate gaussian.\n",
    "\n",
    "- This intuitively gives the prediction for the new point and how certain one is about the prediction."
   ]
  },
  {
   "cell_type": "code",
   "execution_count": 2,
   "metadata": {
    "collapsed": false,
    "slideshow": {
     "slide_type": "slide"
    }
   },
   "outputs": [
    {
     "data": {
      "image/png": "[encoded data removed]",
      "text/plain": [
       "<matplotlib.figure.Figure at 0x7f239f0c2f60>"
      ]
     },
     "metadata": {},
     "output_type": "display_data"
    }
   ],
   "source": [
    "# Plot benchmark function\n",
    "\n",
    "import numpy as np\n",
    "import matplotlib.pyplot as plt\n",
    "from utils import black_box\n",
    "\n",
    "x = np.reshape(np.linspace(0, 20, 100), (-1, 1))\n",
    "f = [black_box(xi) for xi in x]\n",
    "plt.plot(x, f)\n",
    "plt.show()"
   ]
  },
  {
   "cell_type": "code",
   "execution_count": 4,
   "metadata": {
    "collapsed": false,
    "slideshow": {
     "slide_type": "slide"
    }
   },
   "outputs": [
    {
     "data": {
      "image/png": "[encoded data removed]",
      "text/plain": [
       "<matplotlib.figure.Figure at 0x7f239cf90630>"
      ]
     },
     "metadata": {},
     "output_type": "display_data"
    }
   ],
   "source": [
    "# Import necessary stuff\n",
    "from skopt.learning import GaussianProcessRegressor\n",
    "from skopt.learning.gaussian_process.kernels import RBF\n",
    "\n",
    "# Evenly spaced points from 0-20\n",
    "all_x = np.reshape(np.linspace(0, 20, 100), (-1, 1))\n",
    "all_f = [black_box(xi) for xi in all_x]\n",
    "plt.plot(all_x, all_f)\n",
    "\n",
    "# Fit on only one half of the training data.\n",
    "X = np.reshape(np.linspace(0, 10, 10), (-1, 1))\n",
    "y = [black_box(xi) for xi in X]\n",
    "\n",
    "# Use RBF kernel.\n",
    "rbf = RBF(length_scale=1.0)\n",
    "gpr = GaussianProcessRegressor(kernel=rbf, alpha=1e-12)\n",
    "gpr.fit(X, y)\n",
    "plt.plot(np.ravel(X), y, \"ro\", label=\"True function\")\n",
    "\n",
    "# Predict on all data to obtain uncertainty estimates\n",
    "y_pred, y_std = gpr.predict(all_x, return_std=True)\n",
    "all_x_plot = np.ravel(all_x)\n",
    "upper_bound = y_pred + 1.96*y_std\n",
    "lower_bound = y_pred - 1.96*y_std\n",
    "\n",
    "plt.plot(all_x_plot, y_pred, \"r--\", label=\"Predictions\")\n",
    "plt.plot(all_x_plot, lower_bound, color=\"red\")\n",
    "plt.plot(all_x_plot, upper_bound, color=\"red\")\n",
    "plt.fill_between(all_x_plot, lower_bound, upper_bound, facecolor=\"lightcoral\")\n",
    "plt.legend()\n",
    "plt.show()"
   ]
  },
  {
   "cell_type": "markdown",
   "metadata": {
    "slideshow": {
     "slide_type": "slide"
    }
   },
   "source": [
    "<center><h1>Can we do more than write smart calculators?</h1></center>\n",
    "\n"
   ]
  },
  {
   "cell_type": "markdown",
   "metadata": {
    "slideshow": {
     "slide_type": "notes"
    }
   },
   "source": [
    "Python can be more than a super powerful calculator. We can use it to enhance the learning experience of other subjects. Next, I have three examples including a demo. First up, a video of a projectile motion. This program uses matplotlib's animation API to create a basic animation of a projectile motion - a fairly common subject introduced in introductory Physics. The program which is linked asks for the angle of projection and speed and then draws the trajectory of the projectile. Just by running the program multiple times, we can see how the trajectory changes. We don't have to go outside and start throwing balls..\n",
    "\n",
    "Next, we will put Jupyter Notebook's interactive widgets to good effect by drawing a Barnsley Fern. Let's see how the demo goes.\n",
    "\n",
    "Next, with the help of basemap, we can draw places on a world map like we would draw points on a graph paper.\n",
    "\n",
    "I know I would be excited if someone was showing me all these cool things when I was learning these things!"
   ]
  },
  {
   "cell_type": "markdown",
   "metadata": {
    "slideshow": {
     "slide_type": "slide"
    }
   },
   "source": [
    "\n",
    "### Python - Making other subjects more lively\n",
    "\n",
    "<img align=\"center\" src=\"images/collage1.png\"></img>\n",
    "\n",
    "\n",
    "- matplotlib\n",
    "\n",
    "- basemap\n",
    "\n",
    "- Interactive Jupyter Notebooks\n",
    "\n"
   ]
  },
  {
   "cell_type": "markdown",
   "metadata": {
    "slideshow": {
     "slide_type": "subslide"
    }
   },
   "source": [
    "\n",
    "#### Bringing Science to life\n",
    "\n",
    "*Animation of a Projectile motion* [(Python Source)](https://github.com/doingmathwithpython/pycon-us-2016/blob/master/py-files/projectile_animation.py)\n",
    "\n",
    "\n"
   ]
  },
  {
   "cell_type": "code",
   "execution_count": 3,
   "metadata": {
    "collapsed": false
   },
   "outputs": [
    {
     "data": {
      "image/jpeg": "[encoded data removed]",
      "text/html": [
       "\n",
       "        <iframe\n",
       "            width=\"400\"\n",
       "            height=\"300\"\n",
       "            src=\"https://www.youtube.com/embed/8uWRVh58KdQ\"\n",
       "            frameborder=\"0\"\n",
       "            allowfullscreen\n",
       "        ></iframe>\n",
       "        "
      ],
      "text/plain": [
       "<IPython.lib.display.YouTubeVideo at 0x10450c9e8>"
      ]
     },
     "execution_count": 3,
     "metadata": {},
     "output_type": "execute_result"
    }
   ],
   "source": [
    "from IPython.display import YouTubeVideo\n",
    "YouTubeVideo(\"8uWRVh58KdQ\")"
   ]
  },
  {
   "cell_type": "markdown",
   "metadata": {
    "slideshow": {
     "slide_type": "subslide"
    }
   },
   "source": [
    "#### Exploring Fractals in Nature\n",
    "\n",
    "*Interactively drawing a Barnsley Fern* [(Notebook)](https://github.com/doingmathwithpython/pycon-us-2016/blob/master/notebooks/Interactive%20Barnsley%20Fern.ipynb)\n",
    "\n",
    "\n",
    "\n",
    "<img align=\"center\" src=\"images/fern.jpg\" width=\"400\" ></img>\n"
   ]
  },
  {
   "cell_type": "markdown",
   "metadata": {
    "slideshow": {
     "slide_type": "subslide"
    }
   },
   "source": [
    "\n",
    "#### The world is your graph paper\n",
    "\n",
    "*Showing places on a digital map* [(Notebook)](https://github.com/doingmathwithpython/pycon-us-2016/blob/master/notebooks/Maps%20using%20Basemap%20-%20demo.ipynb)"
   ]
  },
  {
   "cell_type": "markdown",
   "metadata": {
    "slideshow": {
     "slide_type": "notes"
    }
   },
   "source": [
    "Next, I would like to talk about my book \"Doing Math with Python\". My idea was attractive enough to get it published by No Starch Press which makes me hope that I am probably onto something.\n",
    "\n",
    "Has anybody read my book? What do you think of it? You have read it and came to my talk? I am feeling better :)\n",
    "\n",
    "I discuss all of the topics I discuss today in my talk. In addition, I discuss sets, probability and random numbers and descriptive statistics.\n",
    "\n",
    "It's being translated into several non-English languages.\n",
    "\n",
    "The reviews/feedback so far has been really positive. I don't have any first hand involvement in teaching, so it's very appreciative of people to share their viewpoints with me."
   ]
  },
  {
   "cell_type": "markdown",
   "metadata": {
    "slideshow": {
     "slide_type": "slide"
    }
   },
   "source": [
    "### Book: Doing Math With Python\n",
    "\n",
    "<img align=\"center\" src=\"images/dmwp-cover.png\" href=\"https://doingmathwithpython.github.io\"></img>\n",
    "\n",
    "Overview\n",
    "\n",
    "- All of what I have discussed so far\n",
    "\n",
    "- In addition: Descriptive statistics, Sets and Probability, Random numbers\n",
    "\n",
    "Published by [No Starch Press](https://www.nostarch.com/doingmathwithpython) in August, 2015.\n",
    "\n",
    "*Upcoming/In-progress translations*: Simplified Chinese, Japanese, French and Korean."
   ]
  },
  {
   "cell_type": "markdown",
   "metadata": {
    "slideshow": {
     "slide_type": "subslide"
    }
   },
   "source": [
    "#### Comments\n",
    "\n",
    "> Saha does an excellent job providing a clear link between Python and upper-level math concepts, and demonstrates how Python can be transformed into a mathematical stage. This book deserves a spot on every geometry teacher’s bookshelf.\n",
    "\n",
    "[School Library Journal](http://www.slj.com/2016/05/collection-development/read-watch-alikes/coding-lets-begin/#_)"
   ]
  },
  {
   "cell_type": "markdown",
   "metadata": {
    "slideshow": {
     "slide_type": "subslide"
    }
   },
   "source": [
    "\n",
    "> Outstanding guide to using Python to do maths. Working back through my undergrad maths using Python.\n"
   ]
  },
  {
   "cell_type": "markdown",
   "metadata": {
    "slideshow": {
     "slide_type": "subslide"
    }
   },
   "source": [
    "\n",
    "> Saha does an excellent job providing a clear link between Python and upper-level math concepts, and demonstrates how Python can be transformed into a mathematical stage."
   ]
  },
  {
   "cell_type": "markdown",
   "metadata": {
    "slideshow": {
     "slide_type": "fragment"
    }
   },
   "source": [
    "\n",
    "> This book is highly recommended for the high school or college student and anyone who is looking for a more natural way of programming math and scientific functions"
   ]
  },
  {
   "cell_type": "markdown",
   "metadata": {
    "slideshow": {
     "slide_type": "fragment"
    }
   },
   "source": [
    "> As a teacher I highly recommend this book as a way to work with someone in learning both math and programming\n"
   ]
  },
  {
   "cell_type": "markdown",
   "metadata": {
    "slideshow": {
     "slide_type": "notes"
    }
   },
   "source": [
    "Okay, so that's great. We have successfully used Python to make the learning experience of young learners more fun and immediately applicable. Can we derive more benefit from doing that? Like something for the future? We all love doing things for the future, don't we?\n",
    "\n",
    "I think yes, i think if we teach young learners the things we have discussed today, it is a great base for someone wanting to go into data science or machine learning.\n",
    "\n",
    "Statistics and visualising data are two very key factors of data science.\n",
    "\n",
    "Differential calculus and specifically the gradient descent method is a simple but useful optimization method used in Machine Learning. Let's see a demo of using gradient descent to find the minimum value of a function.\n",
    "\n",
    "Now, let's apply gradient descent as an optimizer in a Linear Regression problem."
   ]
  },
  {
   "cell_type": "markdown",
   "metadata": {
    "slideshow": {
     "slide_type": "slide"
    }
   },
   "source": [
    "### Great base for the future\n",
    "\n",
    "*Statistics and Graphing data* -> *Data Science*\n",
    "\n",
    "*Differential Calculus* -> *Machine learning*\n"
   ]
  },
  {
   "cell_type": "markdown",
   "metadata": {
    "slideshow": {
     "slide_type": "subslide"
    }
   },
   "source": [
    "### Application of differentiation\n",
    "\n",
    "Use gradient descent to find a function's minimum value [(Notebook)](https://github.com/doingmathwithpython/pycon-us-2016/blob/master/notebooks/Gradient%20Descent.ipynb)"
   ]
  },
  {
   "cell_type": "markdown",
   "metadata": {
    "collapsed": true,
    "slideshow": {
     "slide_type": "subslide"
    }
   },
   "source": [
    "### Predict the college admission score based on high school math score\n",
    "\n",
    "Use gradient descent as the optimizer for single variable linear regression model [(Notebook)](https://github.com/doingmathwithpython/pycon-us-2016/blob/master/notebooks/Simple%20Linear%20Regression.ipynb)\n",
    "\n"
   ]
  },
  {
   "cell_type": "markdown",
   "metadata": {
    "collapsed": true,
    "slideshow": {
     "slide_type": "subslide"
    }
   },
   "source": [
    "### Advanced libraries\n",
    "\n",
    "- [scipy](https://scipy.org)\n",
    "\n",
    "- [numpy](http://www.numpy.org/)\n",
    "\n",
    "- [scikit-learn](http://scikit-learn.org/stable/)\n",
    "\n",
    "- [pandas](http://pandas.pydata.org/)\n",
    "\n",
    "- [Statsmodels](http://statsmodels.sourceforge.net/)\n",
    "\n"
   ]
  },
  {
   "cell_type": "markdown",
   "metadata": {
    "slideshow": {
     "slide_type": "slide"
    }
   },
   "source": [
    "\n",
    "### Dialogue\n",
    "\n",
    "Questions, Thoughts, comments, discussions? \n",
    "\n",
    "\n",
    "#### Online \n",
    "\n",
    "- Twitter: @echorand\n",
    "\n",
    "- Email: amitsaha.in@gmail.com\n",
    "    \n"
   ]
  },
  {
   "cell_type": "markdown",
   "metadata": {
    "slideshow": {
     "slide_type": "slide"
    }
   },
   "source": [
    "### PyCon Special!\n",
    "\n",
    "*Use PYCONMATH code to get 30% off \"Doing Math with Python\" from [No Starch Press](https://www.nostarch.com/doingmathwithpython)*\n",
    "\n",
    "\n",
    "<img align=\"center\" src=\"images/dmwp-cover.png\" href=\"https://doingmathwithpython.github.io\"></img>\n",
    "\n",
    "\n",
    "(Valid from  May 26th - June 8th) \n",
    "\n",
    "Book Signing - May 31st - 2.00 PM - No Starch Press booth"
   ]
  },
  {
   "cell_type": "markdown",
   "metadata": {
    "slideshow": {
     "slide_type": "slide"
    }
   },
   "source": [
    "### Acknowledgements\n",
    "\n",
    "PyCon US Education Summit team for inviting me\n",
    "\n"
   ]
  },
  {
   "cell_type": "markdown",
   "metadata": {
    "slideshow": {
     "slide_type": "fragment"
    }
   },
   "source": [
    "Thanks to PyCon US for reduced registration rates\n"
   ]
  },
  {
   "cell_type": "markdown",
   "metadata": {
    "slideshow": {
     "slide_type": "fragment"
    }
   },
   "source": [
    "\n",
    "Massive thanks to my employer, Freelancer.com for sponsoring my travel and stay \n"
   ]
  },
  {
   "cell_type": "markdown",
   "metadata": {
    "slideshow": {
     "slide_type": "slide"
    }
   },
   "source": [
    "### Links\n",
    "\n",
    "- [Upcoming O'Reilly Webcast](http://www.oreilly.com/pub/e/3712)\n",
    "\n",
    "- [Doing Math with Python](https://nostarch.com/doingmathwithpython)\n",
    "\n",
    "- [Doing Math with Python Blog](https://doingmathwithpython.github.io)\n",
    "\n",
    "- [Doing Math with Python on GitHub](https://github.com/doingmathwithpython)\n",
    "\n"
   ]
  }
 ],
 "metadata": {
  "celltoolbar": "Slideshow",
  "kernelspec": {
   "display_name": "Python 3",
   "language": "python",
   "name": "python3"
  },
  "language_info": {
   "codemirror_mode": {
    "name": "ipython",
    "version": 3
   },
   "file_extension": ".py",
   "mimetype": "text/x-python",
   "name": "python",
   "nbconvert_exporter": "python",
   "pygments_lexer": "ipython3",
   "version": "3.5.2"
  },
  "widgets": {
   "state": {},
   "version": "1.0.0"
  }
 },
 "nbformat": 4,
 "nbformat_minor": 0
}
