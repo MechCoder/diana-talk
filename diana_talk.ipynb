{
 "cells": [
  {
   "cell_type": "code",
   "execution_count": 1,
   "metadata": {
    "collapsed": true,
    "slideshow": {
     "slide_type": "skip"
    }
   },
   "outputs": [],
   "source": [
    "%matplotlib inline"
   ]
  },
  {
   "cell_type": "raw",
   "metadata": {
    "slideshow": {
     "slide_type": "skip"
    }
   },
   "source": [
    "<style type=\"text/css\">\n",
    ".reveal h1, .reveal h2 {\n",
    "    font-family:\"League Gothic\"\n",
    "}\n",
    "</style>"
   ]
  },
  {
   "cell_type": "markdown",
   "metadata": {
    "slideshow": {
     "slide_type": "slide"
    }
   },
   "source": [
    "<center> <b>Bayesian optimisation using scikit-optimize</b> </center>\n",
    "\n",
    "\n",
    "<center>\n",
    "\n",
    "\n",
    "<p> <b>Manoj Kumar</b>\n",
    "\n",
    "<p>Feb 6, CERN\n",
    "\n",
    "\n",
    "</center>"
   ]
  },
  {
   "cell_type": "markdown",
   "metadata": {
    "slideshow": {
     "slide_type": "slide"
    }
   },
   "source": [
    "<center> <b>About me </b></center>\n",
    "\n",
    "\n",
    "- Masters Student at New York University\n",
    "- Core developer of sklearn\n",
    "- Contributed to Spark and SymPy\n",
    "\n",
    "\n",
    "#### Contact\n",
    "\n",
    "- [GitHub](http://github.com/MechCoder)\n",
    "- [@MechCoderr](http://twitter.com/MechCoderr)\n"
   ]
  },
  {
   "cell_type": "markdown",
   "metadata": {
    "slideshow": {
     "slide_type": "slide"
    }
   },
   "source": [
    "<center><font size=\"12\"> Slides: https://mechcoder.github.io/diana-talk/</font> </center>\n",
    "<p>\n",
    "<p>\n",
    "<center><font size=\"12\"> All presentation materials: https://github.com/MechCoder/diana-talk</font></center>"
   ]
  },
  {
   "cell_type": "markdown",
   "metadata": {
    "slideshow": {
     "slide_type": "slide"
    }
   },
   "source": [
    "\n",
    "### Bayesian Optimisation\n",
    "\n",
    "### Ingredients\n",
    "\n",
    "- A black-box function $f^*(X)$.\n",
    "\n",
    "- A predictive model that provides $P(Y | X)$\n",
    "\n",
    "- An acquisition function acq(x) that uses $P(Y | X)$.\n",
    "\n",
    "- Package(s) that takes care of all of these under the hood!\n",
    "\n",
    "### Goal\n",
    "\n",
    "The goal being to minimize the black-box function $f^*(X)$ "
   ]
  },
  {
   "cell_type": "markdown",
   "metadata": {
    "slideshow": {
     "slide_type": "slide"
    }
   },
   "source": [
    "### Tie all the ingredients together!\n",
    "\n",
    "- Call black box $f^*(X)$ $N$ times to obtain $D$ = $(X_1, y_1), (X_2, y_2), ... (X_N, y_N)$\n",
    "\n",
    "- For $n$ in $n_{calls}$\n",
    "\n",
    "    - Fit model to $D$\n",
    "    - Obtain $X_{c} = \\underset{x}{\\operatorname{argmin}}$ acq(x)\n",
    "    - $D$ = concat($D, (X_c, f^*(X_c))$)\n",
    "    \n",
    "- Return $X_i$ for which $y_i$ is minimum."
   ]
  },
  {
   "cell_type": "markdown",
   "metadata": {
    "slideshow": {
     "slide_type": "slide"
    }
   },
   "source": [
    "### scikit-optimize\n",
    "\n",
    "### About\n",
    "A user friendly package that makes bayesian optimisation easy-to-use.\n",
    "\n",
    "\n",
    "### Installation\n",
    "pip(3) install skopt "
   ]
  },
  {
   "cell_type": "markdown",
   "metadata": {
    "slideshow": {
     "slide_type": "slide"
    }
   },
   "source": [
    "### Black-box function\n",
    "\n",
    "- Expensive to evaluate.\n",
    "\n",
    "- Noisy to evaluate.\n",
    "\n",
    "- Gradients unavailable.\n",
    "\n",
    "If it does not satisfy any of these conditions, you should be looking at [scipy.optimize](https://docs.scipy.org/doc/scipy-0.18.1/reference/optimize.html) (gradient-based optimization) and not [scikit-optimize](https://scikit-optimize.github.io/) (bayesian-optimisation)!"
   ]
  },
  {
   "cell_type": "markdown",
   "metadata": {
    "slideshow": {
     "slide_type": "slide"
    }
   },
   "source": [
    "### Typical examples.\n",
    "\n",
    "- Mean cross-validation score of a deep neural-network on test data\n",
    "- Simulation of a collider to get results.\n",
    "- Click-through-rate (CTR) for optimizing online advertisement display."
   ]
  },
  {
   "cell_type": "code",
   "execution_count": 3,
   "metadata": {
    "collapsed": false,
    "slideshow": {
     "slide_type": "slide"
    }
   },
   "outputs": [
    {
     "data": {
      "image/png": "[encoded data removed]",
      "text/plain": [
       "<matplotlib.figure.Figure at 0x7fed304d1400>"
      ]
     },
     "metadata": {},
     "output_type": "display_data"
    }
   ],
   "source": [
    "# Our black-box function for today.\n",
    "\n",
    "import numpy as np\n",
    "import matplotlib.pyplot as plt\n",
    "from utils import black_box\n",
    "\n",
    "all_x = np.reshape(np.linspace(0, 6, 100), (-1, 1))\n",
    "all_f = [black_box(xi) for xi in all_x]\n",
    "plt.plot(all_x, all_f)\n",
    "plt.show()\n"
   ]
  },
  {
   "cell_type": "markdown",
   "metadata": {
    "slideshow": {
     "slide_type": "slide"
    }
   },
   "source": [
    "### High level usage\n",
    "\n",
    "```python\n",
    "import numpy as np\n",
    "\n",
    "from skopt import gp_minimize\n",
    "from utils import black_box\n",
    "\n",
    "# Provide initial points from 5.0 - 6.0, away from the original minimum.\n",
    "x0 = np.reshape(np.linspace(5.0, 6.0, 10), (-1, 1)).tolist()\n",
    "y0 = [black_box(xi) for xi in x0]\n",
    "\n",
    "# Search for minimum from 0.0 - 6.0\n",
    "dimensions = [[0.0, 6.0],]\n",
    "\n",
    "# Optimize!\n",
    "res = gp_minimize(\n",
    "    black_box,\n",
    "    dimensions=dimensions,\n",
    "    x0=x0,\n",
    "    y0=y0,\n",
    "    n_random_starts=0,\n",
    "    n_calls=4,\n",
    "    random_state=0\n",
    ")\n",
    "\n",
    "print(res[\"x\"])\n",
    "[2.441]\n",
    "```"
   ]
  },
  {
   "cell_type": "markdown",
   "metadata": {
    "slideshow": {
     "slide_type": "slide"
    }
   },
   "source": [
    "### Let's go one level deeper\n",
    "\n",
    "```python\n",
    "from skopt.optimizer import Optimizer\n",
    "from skopt.learning import GaussianProcessRegressor\n",
    "\n",
    "# Search from 0.0 to 6.0\n",
    "dimensions = ((0.0, 6.0),)\n",
    "\n",
    "# Initialize estimator.\n",
    "gpr = GaussianProcessRegressor(kernel=Matern(), noise=0.0)\n",
    "optimizer = Optimizer(\n",
    "    dimensions=dimensions,\n",
    "    base_estimator=gpr,\n",
    "    n_random_starts=0,\n",
    "    acq_func=\"LCB\",\n",
    "    random_state=0)\n",
    "```"
   ]
  },
  {
   "cell_type": "markdown",
   "metadata": {
    "slideshow": {
     "slide_type": "slide"
    }
   },
   "source": [
    "### Tell some points and ask for a point\n",
    "\n",
    "```python\n",
    "# Plotting search space with previously seen points, candidate point and acquisition values\n",
    "from utils import plot_space\n",
    "from utils import black_box\n",
    "\n",
    "# As before use points from 5.0 to 6.0\n",
    "X = np.reshape(np.linspace(5.0, 6.0, 10), (-1, 1)).tolist()\n",
    "y = [black_box(xi) for xi in X]\n",
    "optimizer.tell(X, y)\n",
    "x_cand = optimizer.ask()\n",
    "y_cand = black_box(x_cand)\n",
    "plot = plot_space(X, y, optimizer.models[-1], x_cand)\n",
    "plot.show()\n",
    "```"
   ]
  },
  {
   "cell_type": "markdown",
   "metadata": {
    "slideshow": {
     "slide_type": "slide"
    }
   },
   "source": [
    "<img align=\"center\" src=\"images/cand1.png\"></img>"
   ]
  },
  {
   "cell_type": "markdown",
   "metadata": {
    "slideshow": {
     "slide_type": "slide"
    }
   },
   "source": [
    "### Tell and ask again!\n",
    "\n",
    "```python\n",
    "# Tell and ask again.\n",
    "optimizer.tell(x_cand, y_cand)\n",
    "X = X + [x_cand]\n",
    "y = y + [y_cand]\n",
    "x_cand = optimizer.ask()\n",
    "y_cand = black_box(x_cand)\n",
    "plot = plot_space(X, y, optimizer.models[-1], x_cand)\n",
    "plot.show()\n",
    "```"
   ]
  },
  {
   "cell_type": "markdown",
   "metadata": {
    "slideshow": {
     "slide_type": "slide"
    }
   },
   "source": [
    "<img align=\"center\" src=\"images/cand2.png\"></img>"
   ]
  },
  {
   "cell_type": "markdown",
   "metadata": {
    "slideshow": {
     "slide_type": "slide"
    }
   },
   "source": [
    "### Tell and ask again!\n",
    "\n",
    "```python\n",
    "# Tell and ask again.\n",
    "optimizer.tell(x_cand, y_cand)\n",
    "X = X + [x_cand]\n",
    "y = y + [y_cand]\n",
    "x_cand = optimizer.ask()\n",
    "y_cand = black_box(x_cand)\n",
    "plot = plot_space(X, y, optimizer.models[-1], x_cand)\n",
    "plot.show()\n",
    "```"
   ]
  },
  {
   "cell_type": "markdown",
   "metadata": {
    "slideshow": {
     "slide_type": "slide"
    }
   },
   "source": [
    "<img align=\"center\" src=\"images/cand3.png\"></img>"
   ]
  },
  {
   "cell_type": "markdown",
   "metadata": {
    "slideshow": {
     "slide_type": "slide"
    }
   },
   "source": [
    "### More deeper:\n",
    "\n",
    "### Predictive model\n",
    "\n",
    "- Should provide a predictive distribution $P(Y | X)$ at every point.\n",
    "- Cheap approximation to the actual function.\n",
    "- Provides information about the variance in the function approximation.\n",
    "- Examples: Gaussian Processes, Random Forests\n",
    "\n",
    "Will focus on Gaussian Processes on the rest of this talk, though Random Forests are highly useful when there a high number of categorical variables."
   ]
  },
  {
   "cell_type": "markdown",
   "metadata": {
    "slideshow": {
     "slide_type": "slide"
    }
   },
   "source": [
    "\n",
    "### Gaussian Processes - Training\n",
    "\n",
    "\n",
    "- Assume the points $D = (X_1, y_1), (X_2, y_2), ... (X_N, y_N)$ are obtained from the black box.\n",
    "\n",
    "- Recenter the points $y_i$ such that the mean is zero.\n",
    "\n",
    "- Now the assumption is that $y$ forms a multivariate normal distribution. \n",
    "\n",
    "- Mean of size $N$ given by the origin.\n",
    "\n",
    "- The covariance matrix $K^D$ is computed by a kernel $K$.\n",
    "\n",
    "- Each element $K^D_{ij}$ is given by $K(X_i, X_j)$"
   ]
  },
  {
   "cell_type": "markdown",
   "metadata": {
    "slideshow": {
     "slide_type": "slide"
    }
   },
   "source": [
    "### Gaussian Processes - What to train?\n",
    "\n",
    "- Different kernels hold different assumptions about the smoothness of the functions.\n",
    "\n",
    "- Available kernels in skopt can be seen [here](https://github.com/scikit-optimize/scikit-optimize/blob/master/skopt/learning/gaussian_process/kernels.py)\n",
    "\n",
    "- Also, different covariance matrices have different (hyper)parameters.\n",
    "\n",
    "- For example, the squared exponential kernel has a different length scale for each dimension.\n",
    "\n",
    "- In the sklearn implementation, \"best\" parameters are obtained by maximizing the log-likelihood on training data"
   ]
  },
  {
   "cell_type": "markdown",
   "metadata": {
    "slideshow": {
     "slide_type": "slide"
    }
   },
   "source": [
    "### Gaussian Processes - Prediction\n",
    "\n",
    "- For new points, the posterior is also multivariate gaussian.\n",
    "\n",
    "- This gives not only a prediction but also a probability distribution for every new point."
   ]
  },
  {
   "cell_type": "markdown",
   "metadata": {
    "collapsed": false,
    "slideshow": {
     "slide_type": "slide"
    }
   },
   "source": [
    "### Code example\n",
    "\n",
    "```python\n",
    "# Import necessary stuff\n",
    "from skopt.learning import GaussianProcessRegressor\n",
    "from skopt.learning.gaussian_process.kernels import RBF\n",
    "\n",
    "# Evenly spaced points from 0-6\n",
    "all_x = np.reshape(np.linspace(0, 6, 100), (-1, 1))\n",
    "all_f = [black_box(xi) for xi in all_x]\n",
    "plt.plot(all_x, all_f)\n",
    "\n",
    "# Fit on only one third of the training data.\n",
    "X = np.reshape(np.linspace(0, 10, 10), (-1, 1))\n",
    "y = [black_box(xi) for xi in X]\n",
    "\n",
    "# Use RBF kernel.\n",
    "rbf = RBF(length_scale=1.0)\n",
    "gpr = GaussianProcessRegressor(kernel=rbf, alpha=1e-12)\n",
    "gpr.fit(X, y)\n",
    "plt.plot(np.ravel(X), y, \"ro\", label=\"True function\")\n",
    "\n",
    "# Predict on all data to obtain uncertainty estimates\n",
    "y_pred, y_std = gpr.predict(all_x, return_std=True)\n",
    "all_x_plot = np.ravel(all_x)\n",
    "upper_bound = y_pred + 1.96*y_std\n",
    "lower_bound = y_pred - 1.96*y_std\n",
    "\n",
    "plt.plot(all_x_plot, y_pred, \"r--\", label=\"Predictions\")\n",
    "plt.plot(all_x_plot, lower_bound, color=\"red\")\n",
    "plt.plot(all_x_plot, upper_bound, color=\"red\")\n",
    "plt.fill_between(all_x_plot, lower_bound, upper_bound, facecolor=\"lightcoral\")\n",
    "plt.legend()\n",
    "plt.show()\n",
    "```"
   ]
  },
  {
   "cell_type": "markdown",
   "metadata": {
    "slideshow": {
     "slide_type": "slide"
    }
   },
   "source": [
    "<img align=\"center\" src=\"images/gpr.png\"></img>\n"
   ]
  },
  {
   "cell_type": "markdown",
   "metadata": {
    "slideshow": {
     "slide_type": "slide"
    }
   },
   "source": [
    "### Acquisition functions\n",
    "\n",
    "- Combines information about the best values (known) and uncertainty information (unknown).\n",
    "- Tradeoff between exploration and exploitation.\n",
    "- Popular acquisition functions include LCB(Lower Confidence Bound) and EI(Expected Improvement)\n"
   ]
  },
  {
   "cell_type": "markdown",
   "metadata": {
    "slideshow": {
     "slide_type": "slide"
    }
   },
   "source": [
    "### Lower Confidence Bound\n",
    "\n",
    "- $A(x) = \\mu(x) - \\kappa \\sigma(x)$\n",
    "- $\\kappa$ controls exploitation vs exploration\n",
    "\n",
    "\n",
    "### Expected Improvement\n",
    "- $A(x) = E_{f(x)}(u(f(x)))$\n",
    "- $u(f) = 0$, if $f(x) > f^*$\n",
    "- $u(f) = f^* - f$ otherwise\n",
    "- Available in closed form!\n",
    "- Awards proportional to the amount of improvement over the best value."
   ]
  },
  {
   "cell_type": "markdown",
   "metadata": {
    "slideshow": {
     "slide_type": "slide"
    }
   },
   "source": [
    "### Code example\n",
    "\n",
    "```python\n",
    "from skopt.acquisition import gaussian_ei\n",
    "from skopt.acquisition import gaussian_lcb\n",
    "\n",
    "ei_vals = -gaussian_ei(all_x, gpr, y_opt=np.min(y))\n",
    "lcb_vals = gaussian_lcb(all_x, gpr)\n",
    "\n",
    "plt.plot(all_x_plot, ei_vals, \"b\", label=\"-EI\")\n",
    "plt.plot(all_x_plot, lcb_vals, \"black\", label=\"LCB\")\n",
    "\n",
    "```"
   ]
  },
  {
   "cell_type": "markdown",
   "metadata": {
    "slideshow": {
     "slide_type": "slide"
    }
   },
   "source": [
    "<img align=\"center\" src=\"images/acquisition.png\"></img>"
   ]
  },
  {
   "cell_type": "markdown",
   "metadata": {
    "slideshow": {
     "slide_type": "slide"
    }
   },
   "source": [
    "### Optimising the acquisition function\n",
    "\n",
    "- Calling the acquisition function no longer expensive.\n",
    "- Can now be optimised using other techniques.\n",
    "\n",
    "### How does scikit-optimize handle this?\n",
    "- Default is multi-start lbfgs.\n",
    "- Start points are obtained by the \"best\" points on a uniform-grid\n",
    "- More advanced techniques like entropy-search, DIRECT (soon in skopt)\n"
   ]
  },
  {
   "cell_type": "markdown",
   "metadata": {
    "slideshow": {
     "slide_type": "slide"
    }
   },
   "source": [
    "### Website\n",
    "\n",
    "https://scikit-optimize.github.io/\n",
    "\n",
    "### Issue tracker\n",
    "https://github.com/scikit-optimize/scikit-optimize/issues"
   ]
  },
  {
   "cell_type": "markdown",
   "metadata": {
    "slideshow": {
     "slide_type": "slide"
    }
   },
   "source": [
    "# Any questions?"
   ]
  }
 ],
 "metadata": {
  "celltoolbar": "Slideshow",
  "kernelspec": {
   "display_name": "Python 3",
   "language": "python",
   "name": "python3"
  },
  "language_info": {
   "codemirror_mode": {
    "name": "ipython",
    "version": 3
   },
   "file_extension": ".py",
   "mimetype": "text/x-python",
   "name": "python",
   "nbconvert_exporter": "python",
   "pygments_lexer": "ipython3",
   "version": "3.5.2"
  },
  "widgets": {
   "state": {},
   "version": "1.0.0"
  }
 },
 "nbformat": 4,
 "nbformat_minor": 0
}
